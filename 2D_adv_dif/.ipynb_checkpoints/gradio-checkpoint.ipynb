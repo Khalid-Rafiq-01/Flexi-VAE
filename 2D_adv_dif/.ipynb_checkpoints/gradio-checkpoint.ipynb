{
 "cells": [
  {
   "cell_type": "code",
   "execution_count": 1,
   "id": "e61eb020-5e3f-4855-b913-431684be794f",
   "metadata": {},
   "outputs": [],
   "source": [
    "import os\n",
    "import torch\n",
    "import warnings\n",
    "import numpy as np\n",
    "import gradio as gr\n",
    "from data import *\n",
    "import matplotlib.pyplot as plt\n",
    "from mpl_toolkits.mplot3d import Axes3D\n",
    "\n",
    "from dataclasses import dataclass, asdict\n",
    "from model_io import load_model, save_model\n",
    "\n",
    "# We we define all our model here:\n",
    "from new_model import Encoder, Decoder, Propagator_concat as Propagator, Model, loss_function"
   ]
  },
  {
   "cell_type": "code",
   "execution_count": 2,
   "id": "b8f14c8b-64f6-4d6e-a985-ca28f5fd31cc",
   "metadata": {},
   "outputs": [],
   "source": [
    "warnings.filterwarnings(\"ignore\")\n",
    "data_path = \"./data\"\n",
    "model_path = \"./checkpoints/FlexiPropagator_2D_2025-01-30-12-11-01_0aee8fb0_best.pt\"\n",
    "dataset_train, dataset_val, alpha_interval_split, tau_interval_split = load_from_path(data_path)\n",
    "state_dict = torch.load(model_path)"
   ]
  },
  {
   "cell_type": "code",
   "execution_count": 3,
   "id": "82a71973-74af-4e99-aa67-9384a1ef3787",
   "metadata": {},
   "outputs": [],
   "source": [
    "def get_model(latent_dim):\n",
    "    # Instantiate encoder, decoder, and model\n",
    "    encoder = Encoder(latent_dim)\n",
    "    decoder  = Decoder(latent_dim)  # Decoder for x(t)\n",
    "    propagator = Propagator(latent_dim) # z(t) --> z(t+tau)\n",
    "    model = Model(encoder, decoder, propagator)\n",
    "    return model"
   ]
  },
  {
   "cell_type": "code",
   "execution_count": 4,
   "id": "e8ab8e39-5010-4d4b-9b6a-2dd5dd07b216",
   "metadata": {},
   "outputs": [],
   "source": [
    "model = get_model(3)\n",
    "model, alpha_interval_split, tau_interval_split, config = load_model(model_path, model)"
   ]
  },
  {
   "cell_type": "code",
   "execution_count": 5,
   "id": "01c7e324-6776-49cc-9d21-123435aa99c6",
   "metadata": {},
   "outputs": [
    {
     "name": "stdout",
     "output_type": "stream",
     "text": [
      "* Running on local URL:  http://127.0.0.1:7898\n",
      "\n",
      "To create a public link, set `share=True` in `launch()`.\n"
     ]
    },
    {
     "data": {
      "text/html": [
       "<div><iframe src=\"http://127.0.0.1:7898/\" width=\"100%\" height=\"500\" allow=\"autoplay; camera; microphone; clipboard-read; clipboard-write;\" frameborder=\"0\" allowfullscreen></iframe></div>"
      ],
      "text/plain": [
       "<IPython.core.display.HTML object>"
      ]
     },
     "metadata": {},
     "output_type": "display_data"
    },
    {
     "data": {
      "text/plain": []
     },
     "execution_count": 5,
     "metadata": {},
     "output_type": "execute_result"
    }
   ],
   "source": [
    "def create_interface(model, exact_solution):\n",
    "    def generate_3d_visualization(Re, t_0, tau):\n",
    "        dt = 2 / 500\n",
    "        t = t_0 + tau * dt\n",
    "    \n",
    "        # Generate initial and evolved states\n",
    "        U_initial = exact_solution(Re, t_0)\n",
    "        U_evolved = exact_solution(Re, t)\n",
    "    \n",
    "        # Ensure valid data\n",
    "        if np.isnan(U_initial).any() or np.isnan(U_evolved).any():\n",
    "            print(\"Warning: NaN values detected in solutions.\")\n",
    "            return None  # Avoid rendering empty plots\n",
    "    \n",
    "        fig3d = plt.figure(figsize=(12, 6))\n",
    "        ax3d = fig3d.add_subplot(111, projection='3d')\n",
    "    \n",
    "        x_vals = np.linspace(-2, 2, U_initial.shape[1])\n",
    "        y_vals = np.linspace(-2, 2, U_initial.shape[0])\n",
    "        X, Y = np.meshgrid(x_vals, y_vals)\n",
    "    \n",
    "        surf1 = ax3d.plot_surface(X, Y, U_initial, cmap=\"viridis\", alpha=0.6, label=\"Initial\")\n",
    "        surf2 = ax3d.plot_surface(X, Y, U_evolved, cmap=\"plasma\", alpha=0.8, label=\"Evolved\")\n",
    "    \n",
    "        ax3d.set_xlim(-3, 3)\n",
    "        ax3d.set_xlabel(\"x\")\n",
    "        ax3d.set_ylabel(\"y\")\n",
    "        ax3d.set_zlabel(\"u(x,y,t)\")\n",
    "        ax3d.view_init(elev=25, azim=-45)\n",
    "        ax3d.set_box_aspect((2,1,1))\n",
    "    \n",
    "        fig3d.colorbar(surf1, ax=ax3d, shrink=0.5, label=\"Initial\")\n",
    "        fig3d.colorbar(surf2, ax=ax3d, shrink=0.5, label=\"Evolved\")\n",
    "        ax3d.set_title(f\"Solution Evolution\\nInitial (t={t_0:.2f}) vs Evolved (t={t:.2f})\")\n",
    "    \n",
    "        plt.tight_layout()\n",
    "        plt.close(fig3d)  # Explicitly close figure\n",
    "        return fig3d\n",
    "\n",
    "    def process(Re, t_0, tau):\n",
    "        dt = 2 / 500\n",
    "        exact_initial = exact_solution(Re, t_0)\n",
    "        exact_final = exact_solution(Re, t_0 + tau * dt)\n",
    "    \n",
    "        if np.isnan(exact_initial).any() or np.isnan(exact_final).any():\n",
    "            print(\"Warning: NaN values in exact solutions.\")\n",
    "            return None  # Skip rendering if invalid\n",
    "    \n",
    "        x_in = torch.tensor(exact_initial, dtype=torch.float32)[None, None, :, :]\n",
    "        Re_in = torch.tensor([[Re]], dtype=torch.float32)\n",
    "        tau_in = torch.tensor([[tau]], dtype=torch.float32)\n",
    "    \n",
    "        with torch.no_grad():\n",
    "            x_hat, x_hat_tau, *_ = model(x_in, tau_in, Re_in)\n",
    "    \n",
    "        # Ensure tensor shape compatibility\n",
    "        pred = x_hat_tau.squeeze().numpy()\n",
    "        if pred.shape != exact_final.shape:\n",
    "            print(f\"Warning: Shape mismatch {pred.shape} vs {exact_final.shape}\")\n",
    "            return None\n",
    "    \n",
    "        mse = np.square(pred - exact_final)\n",
    "    \n",
    "        fig, axs = plt.subplots(1, 3, figsize=(15, 4))\n",
    "    \n",
    "        for ax, (data, title) in zip(axs, [(pred, \"Model Prediction\"),\n",
    "                                           (exact_final, \"Exact Solution\"),\n",
    "                                           (mse, \"MSE Error\")]):\n",
    "            if title == \"MSE Error\":\n",
    "                im = ax.imshow(data, cmap=\"viridis\", vmin=0, vmax=1e-2)\n",
    "                plt.colorbar(im, ax=ax, fraction=0.075)\n",
    "            else:\n",
    "                im = ax.imshow(data, cmap=\"jet\")\n",
    "    \n",
    "            ax.set_title(title)\n",
    "            ax.axis(\"off\")\n",
    "    \n",
    "        plt.tight_layout()\n",
    "        plt.close(fig)  # Ensure figure is closed\n",
    "        return fig\n",
    "\n",
    "    def update_initial_plot(Re, t_0):\n",
    "        exact_initial = exact_solution(Re, t_0)\n",
    "        fig, ax = plt.subplots(figsize=(5, 5))\n",
    "        im = ax.imshow(exact_initial, cmap='jet')\n",
    "        plt.colorbar(im, ax=ax)\n",
    "        ax.set_title('Initial State')\n",
    "        return fig\n",
    "\n",
    "    with gr.Blocks() as demo:\n",
    "        gr.Markdown(\"## Dynamical System Visualizer\")\n",
    "        \n",
    "        with gr.Row():\n",
    "            with gr.Column(scale=1):\n",
    "                Re_slider = gr.Slider(1, 10, value=9, step=0.1, label=\"Reynolds Number (Re)\", info=\"Interpolation: [2.09, 2.99], Extrapolation Left: [1, 1.9], Extrapolation Right: [9.1, 10]\")\n",
    "                t0_input = gr.Number(value=0.45, label=\"Initial Time (t₀)\", \n",
    "                                   info=\"Keep close to zero (0-0.1 recommended)\")\n",
    "                tau_slider = gr.Slider(150, 425, value=225, step=1, label=\"Tau (τ)\", info=\"Interpolation: [364.7, 392.2], Extrapolation Left: [150, 177.5], Extrapolation Right: [397.5, 425]\")\n",
    "                initial_plot = gr.Plot(label=\"Initial State\")\n",
    "                \n",
    "            with gr.Column(scale=3):\n",
    "                three_d_plot = gr.Plot(label=\"3D Evolution\")\n",
    "                comparison_plots = gr.Plot(label=\"Model Comparison\")\n",
    "\n",
    "        inputs = [Re_slider, t0_input, tau_slider]\n",
    "\n",
    "        def update_all(Re, t0, tau):\n",
    "            return (\n",
    "                generate_3d_visualization(Re, t0, tau),\n",
    "                process(Re, t0, tau),\n",
    "                update_initial_plot(Re, t0)\n",
    "            )\n",
    "        \n",
    "        for component in inputs:\n",
    "            component.change(\n",
    "                update_all,\n",
    "                inputs=inputs,\n",
    "                outputs=[three_d_plot, comparison_plots, initial_plot]\n",
    "            )\n",
    "\n",
    "        demo.load(\n",
    "            lambda: [generate_3d_visualization(4, 0.05, 225), \n",
    "                    process(4, 0.05, 225),\n",
    "                    update_initial_plot(4, 0.05)],\n",
    "            outputs=[three_d_plot, comparison_plots, initial_plot]\n",
    "        )\n",
    "\n",
    "    return demo\n",
    "\n",
    "demo = create_interface(model, exact_solution)\n",
    "demo.launch()\n"
   ]
  },
  {
   "cell_type": "code",
   "execution_count": null,
   "id": "23fcdc3b-e660-496e-a7cd-43ae935c1365",
   "metadata": {},
   "outputs": [],
   "source": []
  }
 ],
 "metadata": {
  "kernelspec": {
   "display_name": "Python 3 (ipykernel)",
   "language": "python",
   "name": "python3"
  },
  "language_info": {
   "codemirror_mode": {
    "name": "ipython",
    "version": 3
   },
   "file_extension": ".py",
   "mimetype": "text/x-python",
   "name": "python",
   "nbconvert_exporter": "python",
   "pygments_lexer": "ipython3",
   "version": "3.10.12"
  }
 },
 "nbformat": 4,
 "nbformat_minor": 5
}
